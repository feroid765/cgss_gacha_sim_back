{
 "cells": [
  {
   "cell_type": "code",
   "execution_count": 1,
   "metadata": {},
   "outputs": [],
   "source": [
    "import requests\n",
    "from bs4 import BeautifulSoup, element\n",
    "import math\n",
    "import re\n",
    "import datetime"
   ]
  },
  {
   "cell_type": "code",
   "execution_count": null,
   "metadata": {},
   "outputs": [],
   "source": [
    "def get_common_pickup(soup):\n",
    "    gacha_list = []\n",
    "    \n",
    "    Flag =  False\n",
    "\n",
    "    ID = 0\n",
    "    rate = {'R' : 85.0, 'SR' : 12.0, 'SSR' : 3.0}\n",
    "    time = 0\n",
    "    sr_pickup_list = [] #2.4%\n",
    "    ssr_pickup_list_0 = []\n",
    "    ssr_pickup_list_1 = [] #1.2%\n",
    "\n",
    "    for i in soup.select('.container'):\n",
    "        tmp = i.select('p')\n",
    "        if len(tmp) != 0 and i.select['p'][0].text == 'Current events and gachas:':\n",
    "            gacha_list = i.select('.he_gacha')\n",
    "            for j in gacha_list:\n",
    "                time = j.select('.counter')[0]['data-count-to']\n",
    "                if len(j.select('small')) != 0:\n",
    "                    rate_tmp = i.select('small')[0].text\n",
    "                    rate_tmp = rate_tmp.split('/')\n",
    "                    rate_tmp[0] = rate_tmp[0].split(':')[1]\n",
    "                    rate_tmp = list(map(lambda x : x.strip(), rate_tmp))\n",
    "\n",
    "                    rate['R'] = float(rate_tmp[0].split(' ')[1][:-1])\n",
    "                    rate['SR'] = float(rate_tmp[1].split(' ')[1][:-1])\n",
    "                    rate['SSR'] = float(rate_tmp[2].split(' ')[1][:-1])\n",
    "\n",
    "                for k in i.find_all('a', {'href' : re.compile(r'\\d{5}')}):\n",
    "                    ID = k['href'].split('/')[2]\n",
    "\n",
    "                if ID == 0:\n",
    "                    \n",
    "\n",
    "        if type(i) == element.Tag:\n",
    "            Flag = False\n",
    "            for j in i.find_all('a', {'href' : re.compile(r'\\d{6}')}):\n",
    "                sub_url = j['href']\n",
    "                card_ID = sub_url.split('_')[1]\n",
    "                rarity = get_card_info(card_ID)['rarity']\n",
    "            \n",
    "                add_date = get_added_date(\"https://starlight.kirara.ca\"+sub_url, card_ID).date()\n",
    "\n",
    "                if rarity == 'SSR':\n",
    "                    if datetime.date.today() - datetime.timedelta(days = 14) < add_date:\n",
    "                        ssr_pickup_list_1.append(card_ID)\n",
    "                    else:\n",
    "                        ssr_pickup_list_0.append(card_ID)\n",
    "                elif rarity == 'SR':\n",
    "                    sr_pickup_list.append(card_ID)\n",
    "\n",
    "            for k in i.find_all('a', {'href' : re.compile(r'\\d{5}')}):\n",
    "                ID = k['href'].split('/')[2]\n",
    "            gacha_list.append({'ID' : ID, 'time' : float(time), 'sr_pickup_list_0' : sr_pickup_list, 'ssr_pickup_list_0' : ssr_pickup_list_0, 'ssr_pickup_list_1' : ssr_pickup_list_1, 'rate': rate})\n",
    "        elif type(i) == element.Tag and i['class'][0] == 'header' and i.select('.left')[0].text == 'Limited availability!':\n",
    "            time = i.select('.counter')[0]['data-count-to']\n",
    "\n",
    "            if len(i.select('small')) != 0:\n",
    "                rate_tmp = i.select('small')[0].text\n",
    "                rate_tmp = rate_tmp.split('/')\n",
    "                rate_tmp[0] = rate_tmp[0].split(':')[1]\n",
    "                rate_tmp = list(map(lambda x : x.strip(), rate_tmp))\n",
    "\n",
    "                rate['R'] = float(rate_tmp[0].split(' ')[1][:-1])\n",
    "                rate['SR'] = float(rate_tmp[1].split(' ')[1][:-1])\n",
    "                rate['SSR'] = float(rate_tmp[2].split(' ')[1][:-1])\n",
    "\n",
    "            Flag = True    \n",
    "    return gacha_list"
   ]
  },
  {
   "cell_type": "code",
   "execution_count": 2,
   "metadata": {},
   "outputs": [],
   "source": [
    "res = requests.get(\"https://starlight.kirara.ca/\")\n",
    "html = res.text\n",
    "soup = BeautifulSoup(html, 'html.parser')"
   ]
  },
  {
   "cell_type": "code",
   "execution_count": null,
   "metadata": {},
   "outputs": [],
   "source": []
  }
 ],
 "metadata": {
  "language_info": {
   "codemirror_mode": {
    "name": "ipython",
    "version": 3
   },
   "file_extension": ".py",
   "mimetype": "text/x-python",
   "name": "python",
   "nbconvert_exporter": "python",
   "pygments_lexer": "ipython3",
   "version": "3.6.10-final"
  },
  "orig_nbformat": 2,
  "kernelspec": {
   "name": "python3",
   "display_name": "Python 3"
  }
 },
 "nbformat": 4,
 "nbformat_minor": 2
}